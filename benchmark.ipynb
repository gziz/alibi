{
 "cells": [
  {
   "cell_type": "code",
   "execution_count": 5,
   "metadata": {},
   "outputs": [],
   "source": [
    "import torch\n",
    "import torch.utils.benchmark as benchmark\n",
    "\n",
    "from alibi_generator import ALiBiAttentionMaskGenerator\n",
    "from metaseq import buffered_future_mask"
   ]
  },
  {
   "cell_type": "code",
   "execution_count": 6,
   "metadata": {},
   "outputs": [],
   "source": [
    "seq_len = 512\n",
    "batch_size = 1\n",
    "\n",
    "# The num_heads is hard coded inside buffered_future_mask as 8\n",
    "# Metaseq's buffered_future_mask is a class method, num_heads is \n",
    "# taken from a class attribute.\n",
    "t0 = benchmark.Timer(\n",
    "    stmt = \"buffered_future_mask(x)\",\n",
    "    globals = {\n",
    "        \"buffered_future_mask\": buffered_future_mask,\n",
    "        \"x\": torch.empty((seq_len, batch_size))\n",
    "        },\n",
    "    label = \"Metaseq\")\n",
    "\n",
    "\n",
    "# model_size is abitrary for alibi,\n",
    "# but it's the expected dimension for X in fairseq's 2 AttentionMask\n",
    "model_size = 1\n",
    "\n",
    "t1 = benchmark.Timer(\n",
    "    stmt = \"\"\"\n",
    "        alibi_gen = ALiBiAttentionMaskGenerator(num_heads=8)\n",
    "        alibi_gen(x)\n",
    "        \"\"\",\n",
    "    globals = {\n",
    "        \"ALiBiAttentionMaskGenerator\": ALiBiAttentionMaskGenerator,\n",
    "        \"x\": torch.empty((seq_len, model_size))\n",
    "        },\n",
    "    label = \"Fairseq2\")"
   ]
  },
  {
   "cell_type": "code",
   "execution_count": 7,
   "metadata": {},
   "outputs": [
    {
     "name": "stdout",
     "output_type": "stream",
     "text": [
      "<torch.utils.benchmark.utils.common.Measurement object at 0x13ffb7fd0>\n",
      "Metaseq\n",
      "  756.01 us\n",
      "  1 measurement, 30000 runs , 1 thread\n",
      "<torch.utils.benchmark.utils.common.Measurement object at 0x13ffb7ee0>\n",
      "Fairseq2\n",
      "  617.52 us\n",
      "  1 measurement, 30000 runs , 1 thread\n"
     ]
    }
   ],
   "source": [
    "res0 = t0.timeit(30000)\n",
    "res1 = t1.timeit(30000)\n",
    "print(res0)\n",
    "print(res1)"
   ]
  },
  {
   "cell_type": "code",
   "execution_count": null,
   "metadata": {},
   "outputs": [],
   "source": []
  }
 ],
 "metadata": {
  "kernelspec": {
   "display_name": "mlh",
   "language": "python",
   "name": "python3"
  },
  "language_info": {
   "codemirror_mode": {
    "name": "ipython",
    "version": 3
   },
   "file_extension": ".py",
   "mimetype": "text/x-python",
   "name": "python",
   "nbconvert_exporter": "python",
   "pygments_lexer": "ipython3",
   "version": "3.10.9"
  },
  "orig_nbformat": 4,
  "vscode": {
   "interpreter": {
    "hash": "3f155d8048402fb3a18cead813eb21a46e62cadb2f8bcd23e8ad5de04023dbc0"
   }
  }
 },
 "nbformat": 4,
 "nbformat_minor": 2
}
